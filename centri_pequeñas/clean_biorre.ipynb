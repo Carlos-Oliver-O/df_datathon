{
 "cells": [
  {
   "cell_type": "code",
   "execution_count": 4,
   "metadata": {},
   "outputs": [],
   "source": [
    "import pandas as pd\n",
    "import numpy as np"
   ]
  },
  {
   "cell_type": "code",
   "execution_count": 19,
   "metadata": {},
   "outputs": [
    {
     "name": "stderr",
     "output_type": "stream",
     "text": [
      "/var/folders/z3/hzk3_13n5c10wmqwhtszhh840000gn/T/ipykernel_9875/2538945267.py:1: DtypeWarning: Columns (5,10) have mixed types. Specify dtype option on import or set low_memory=False.\n",
      "  bio_13171 = pd.read_csv('Biorreactor 13171 2(Datos).csv', sep=';')\n",
      "/var/folders/z3/hzk3_13n5c10wmqwhtszhh840000gn/T/ipykernel_9875/2538945267.py:2: DtypeWarning: Columns (4) have mixed types. Specify dtype option on import or set low_memory=False.\n",
      "  bio_13172 = pd.read_csv('Biorreactor 13172(Datos).csv', sep=';')\n"
     ]
    }
   ],
   "source": [
    "bio_13171 = pd.read_csv('Biorreactor 13171 2(Datos).csv', sep=';')\n",
    "bio_13172 = pd.read_csv('Biorreactor 13172(Datos).csv', sep=';')\n",
    "bio_14618 = pd.read_csv('Biorreactor 14618(Datos).csv', sep=';')"
   ]
  },
  {
   "cell_type": "code",
   "execution_count": 20,
   "metadata": {},
   "outputs": [
    {
     "data": {
      "text/html": [
       "<div>\n",
       "<style scoped>\n",
       "    .dataframe tbody tr th:only-of-type {\n",
       "        vertical-align: middle;\n",
       "    }\n",
       "\n",
       "    .dataframe tbody tr th {\n",
       "        vertical-align: top;\n",
       "    }\n",
       "\n",
       "    .dataframe thead th {\n",
       "        text-align: right;\n",
       "    }\n",
       "</style>\n",
       "<table border=\"1\" class=\"dataframe\">\n",
       "  <thead>\n",
       "    <tr style=\"text-align: right;\">\n",
       "      <th></th>\n",
       "      <th>DateTime</th>\n",
       "      <th>14618_FERM0101.Agitation_PV</th>\n",
       "      <th>14618_FERM0101.Air_Sparge_PV</th>\n",
       "      <th>14618_FERM0101.Biocontainer_Pressure_PV</th>\n",
       "      <th>14618_FERM0101.DO_1_PV</th>\n",
       "      <th>14618_FERM0101.DO_2_PV</th>\n",
       "      <th>14618_FERM0101.Gas_Overlay_PV</th>\n",
       "      <th>14618_FERM0101.Load_Cell_Net_PV</th>\n",
       "      <th>14618_FERM0101.pH_1_PV</th>\n",
       "      <th>14618_FERM0101.pH_2_PV</th>\n",
       "      <th>14618_FERM0101.PUMP_1_PV</th>\n",
       "      <th>14618_FERM0101.PUMP_1_TOTAL</th>\n",
       "      <th>14618_FERM0101.PUMP_2_PV</th>\n",
       "      <th>14618_FERM0101.PUMP_2_TOTAL</th>\n",
       "      <th>14618_FERM0101.Single_Use_DO_PV</th>\n",
       "      <th>14618_FERM0101.Single_Use_pH_PV</th>\n",
       "      <th>14618_FERM0101.Temperatura_PV</th>\n",
       "    </tr>\n",
       "  </thead>\n",
       "  <tbody>\n",
       "    <tr>\n",
       "      <th>0</th>\n",
       "      <td>2023-03-15 00:00:00.000</td>\n",
       "      <td>72</td>\n",
       "      <td>0</td>\n",
       "      <td>1,86961191</td>\n",
       "      <td>15,95399323</td>\n",
       "      <td>NaN</td>\n",
       "      <td>4,000057112</td>\n",
       "      <td>169,6</td>\n",
       "      <td>-527,3871582</td>\n",
       "      <td>5,998477936</td>\n",
       "      <td>0.0</td>\n",
       "      <td>104,1599731</td>\n",
       "      <td>0</td>\n",
       "      <td>0</td>\n",
       "      <td>16,71352692</td>\n",
       "      <td>6,015999985</td>\n",
       "      <td>29,45600586</td>\n",
       "    </tr>\n",
       "    <tr>\n",
       "      <th>1</th>\n",
       "      <td>2023-03-15 00:15:00.000</td>\n",
       "      <td>72</td>\n",
       "      <td>0</td>\n",
       "      <td>1,950259689</td>\n",
       "      <td>19,05686798</td>\n",
       "      <td>NaN</td>\n",
       "      <td>3,999800619</td>\n",
       "      <td>169,6</td>\n",
       "      <td>-527,3871582</td>\n",
       "      <td>6,006378555</td>\n",
       "      <td>0.0</td>\n",
       "      <td>104,1599731</td>\n",
       "      <td>0</td>\n",
       "      <td>0</td>\n",
       "      <td>20,1470993</td>\n",
       "      <td>6,015999985</td>\n",
       "      <td>29,32000471</td>\n",
       "    </tr>\n",
       "    <tr>\n",
       "      <th>2</th>\n",
       "      <td>2023-03-15 00:30:00.000</td>\n",
       "      <td>72</td>\n",
       "      <td>0</td>\n",
       "      <td>1,666672833</td>\n",
       "      <td>22,58402405</td>\n",
       "      <td>NaN</td>\n",
       "      <td>4,000540702</td>\n",
       "      <td>169,6</td>\n",
       "      <td>-527,3871582</td>\n",
       "      <td>6,006378555</td>\n",
       "      <td>0.0</td>\n",
       "      <td>104,1599731</td>\n",
       "      <td>0</td>\n",
       "      <td>0</td>\n",
       "      <td>24,09905762</td>\n",
       "      <td>6,015999985</td>\n",
       "      <td>29,72000219</td>\n",
       "    </tr>\n",
       "    <tr>\n",
       "      <th>3</th>\n",
       "      <td>2023-03-15 00:45:00.000</td>\n",
       "      <td>72</td>\n",
       "      <td>0</td>\n",
       "      <td>1,686865266</td>\n",
       "      <td>13,83769836</td>\n",
       "      <td>NaN</td>\n",
       "      <td>3,999813288</td>\n",
       "      <td>169,6</td>\n",
       "      <td>-527,3871582</td>\n",
       "      <td>6,006378555</td>\n",
       "      <td>0.0</td>\n",
       "      <td>104,1599731</td>\n",
       "      <td>0</td>\n",
       "      <td>0</td>\n",
       "      <td>14,21841431</td>\n",
       "      <td>6,015978311</td>\n",
       "      <td>29,27206209</td>\n",
       "    </tr>\n",
       "    <tr>\n",
       "      <th>4</th>\n",
       "      <td>2023-03-15 01:00:00.000</td>\n",
       "      <td>72</td>\n",
       "      <td>0</td>\n",
       "      <td>1,706947869</td>\n",
       "      <td>16,37827454</td>\n",
       "      <td>NaN</td>\n",
       "      <td>3,999786781</td>\n",
       "      <td>169,6</td>\n",
       "      <td>-527,3871582</td>\n",
       "      <td>6,006378555</td>\n",
       "      <td>0.0</td>\n",
       "      <td>104,1599731</td>\n",
       "      <td>0</td>\n",
       "      <td>0</td>\n",
       "      <td>17,11572418</td>\n",
       "      <td>6,015999985</td>\n",
       "      <td>29,47209185</td>\n",
       "    </tr>\n",
       "    <tr>\n",
       "      <th>...</th>\n",
       "      <td>...</td>\n",
       "      <td>...</td>\n",
       "      <td>...</td>\n",
       "      <td>...</td>\n",
       "      <td>...</td>\n",
       "      <td>...</td>\n",
       "      <td>...</td>\n",
       "      <td>...</td>\n",
       "      <td>...</td>\n",
       "      <td>...</td>\n",
       "      <td>...</td>\n",
       "      <td>...</td>\n",
       "      <td>...</td>\n",
       "      <td>...</td>\n",
       "      <td>...</td>\n",
       "      <td>...</td>\n",
       "      <td>...</td>\n",
       "    </tr>\n",
       "    <tr>\n",
       "      <th>52408</th>\n",
       "      <td>2024-09-10 23:00:00.000</td>\n",
       "      <td>0</td>\n",
       "      <td>0</td>\n",
       "      <td>480</td>\n",
       "      <td>0</td>\n",
       "      <td>NaN</td>\n",
       "      <td>0</td>\n",
       "      <td>-6,240000153</td>\n",
       "      <td>1,248973465</td>\n",
       "      <td>-0,342431259</td>\n",
       "      <td>0.0</td>\n",
       "      <td>29,76000061</td>\n",
       "      <td>0</td>\n",
       "      <td>0</td>\n",
       "      <td>735,8955078</td>\n",
       "      <td>800,0399902</td>\n",
       "      <td>15,35300293</td>\n",
       "    </tr>\n",
       "    <tr>\n",
       "      <th>52409</th>\n",
       "      <td>2024-09-10 23:15:00.000</td>\n",
       "      <td>0</td>\n",
       "      <td>0</td>\n",
       "      <td>480</td>\n",
       "      <td>0</td>\n",
       "      <td>NaN</td>\n",
       "      <td>0</td>\n",
       "      <td>-6,240000153</td>\n",
       "      <td>1,248973465</td>\n",
       "      <td>-0,342431259</td>\n",
       "      <td>0.0</td>\n",
       "      <td>29,76000061</td>\n",
       "      <td>0</td>\n",
       "      <td>0</td>\n",
       "      <td>735,8955078</td>\n",
       "      <td>800,0399902</td>\n",
       "      <td>15,25111686</td>\n",
       "    </tr>\n",
       "    <tr>\n",
       "      <th>52410</th>\n",
       "      <td>2024-09-10 23:30:00.000</td>\n",
       "      <td>0</td>\n",
       "      <td>0</td>\n",
       "      <td>480</td>\n",
       "      <td>0</td>\n",
       "      <td>NaN</td>\n",
       "      <td>0</td>\n",
       "      <td>-6,240000153</td>\n",
       "      <td>1,248973465</td>\n",
       "      <td>-0,342431259</td>\n",
       "      <td>0.0</td>\n",
       "      <td>29,76000061</td>\n",
       "      <td>0</td>\n",
       "      <td>0</td>\n",
       "      <td>735,8955078</td>\n",
       "      <td>800,0399902</td>\n",
       "      <td>15,23938258</td>\n",
       "    </tr>\n",
       "    <tr>\n",
       "      <th>52411</th>\n",
       "      <td>2024-09-10 23:45:00.000</td>\n",
       "      <td>0</td>\n",
       "      <td>0</td>\n",
       "      <td>480</td>\n",
       "      <td>0</td>\n",
       "      <td>NaN</td>\n",
       "      <td>0</td>\n",
       "      <td>-6,240000153</td>\n",
       "      <td>1,248973465</td>\n",
       "      <td>-0,342431259</td>\n",
       "      <td>0.0</td>\n",
       "      <td>29,76000061</td>\n",
       "      <td>0</td>\n",
       "      <td>0</td>\n",
       "      <td>735,8955078</td>\n",
       "      <td>800,0399902</td>\n",
       "      <td>15,22473803</td>\n",
       "    </tr>\n",
       "    <tr>\n",
       "      <th>52412</th>\n",
       "      <td>2024-09-11 00:00:00.000</td>\n",
       "      <td>0</td>\n",
       "      <td>0</td>\n",
       "      <td>480</td>\n",
       "      <td>0</td>\n",
       "      <td>NaN</td>\n",
       "      <td>0</td>\n",
       "      <td>-6,240000153</td>\n",
       "      <td>1,248973465</td>\n",
       "      <td>-0,342431259</td>\n",
       "      <td>0.0</td>\n",
       "      <td>29,76000061</td>\n",
       "      <td>0</td>\n",
       "      <td>0</td>\n",
       "      <td>735,8955078</td>\n",
       "      <td>800,0399902</td>\n",
       "      <td>15,21361408</td>\n",
       "    </tr>\n",
       "  </tbody>\n",
       "</table>\n",
       "<p>52413 rows × 17 columns</p>\n",
       "</div>"
      ],
      "text/plain": [
       "                      DateTime 14618_FERM0101.Agitation_PV  \\\n",
       "0      2023-03-15 00:00:00.000                          72   \n",
       "1      2023-03-15 00:15:00.000                          72   \n",
       "2      2023-03-15 00:30:00.000                          72   \n",
       "3      2023-03-15 00:45:00.000                          72   \n",
       "4      2023-03-15 01:00:00.000                          72   \n",
       "...                        ...                         ...   \n",
       "52408  2024-09-10 23:00:00.000                           0   \n",
       "52409  2024-09-10 23:15:00.000                           0   \n",
       "52410  2024-09-10 23:30:00.000                           0   \n",
       "52411  2024-09-10 23:45:00.000                           0   \n",
       "52412  2024-09-11 00:00:00.000                           0   \n",
       "\n",
       "      14618_FERM0101.Air_Sparge_PV 14618_FERM0101.Biocontainer_Pressure_PV  \\\n",
       "0                                0                              1,86961191   \n",
       "1                                0                             1,950259689   \n",
       "2                                0                             1,666672833   \n",
       "3                                0                             1,686865266   \n",
       "4                                0                             1,706947869   \n",
       "...                            ...                                     ...   \n",
       "52408                            0                                     480   \n",
       "52409                            0                                     480   \n",
       "52410                            0                                     480   \n",
       "52411                            0                                     480   \n",
       "52412                            0                                     480   \n",
       "\n",
       "      14618_FERM0101.DO_1_PV  14618_FERM0101.DO_2_PV  \\\n",
       "0                15,95399323                     NaN   \n",
       "1                19,05686798                     NaN   \n",
       "2                22,58402405                     NaN   \n",
       "3                13,83769836                     NaN   \n",
       "4                16,37827454                     NaN   \n",
       "...                      ...                     ...   \n",
       "52408                      0                     NaN   \n",
       "52409                      0                     NaN   \n",
       "52410                      0                     NaN   \n",
       "52411                      0                     NaN   \n",
       "52412                      0                     NaN   \n",
       "\n",
       "      14618_FERM0101.Gas_Overlay_PV 14618_FERM0101.Load_Cell_Net_PV  \\\n",
       "0                       4,000057112                           169,6   \n",
       "1                       3,999800619                           169,6   \n",
       "2                       4,000540702                           169,6   \n",
       "3                       3,999813288                           169,6   \n",
       "4                       3,999786781                           169,6   \n",
       "...                             ...                             ...   \n",
       "52408                             0                    -6,240000153   \n",
       "52409                             0                    -6,240000153   \n",
       "52410                             0                    -6,240000153   \n",
       "52411                             0                    -6,240000153   \n",
       "52412                             0                    -6,240000153   \n",
       "\n",
       "      14618_FERM0101.pH_1_PV 14618_FERM0101.pH_2_PV  14618_FERM0101.PUMP_1_PV  \\\n",
       "0               -527,3871582            5,998477936                       0.0   \n",
       "1               -527,3871582            6,006378555                       0.0   \n",
       "2               -527,3871582            6,006378555                       0.0   \n",
       "3               -527,3871582            6,006378555                       0.0   \n",
       "4               -527,3871582            6,006378555                       0.0   \n",
       "...                      ...                    ...                       ...   \n",
       "52408            1,248973465           -0,342431259                       0.0   \n",
       "52409            1,248973465           -0,342431259                       0.0   \n",
       "52410            1,248973465           -0,342431259                       0.0   \n",
       "52411            1,248973465           -0,342431259                       0.0   \n",
       "52412            1,248973465           -0,342431259                       0.0   \n",
       "\n",
       "      14618_FERM0101.PUMP_1_TOTAL 14618_FERM0101.PUMP_2_PV  \\\n",
       "0                     104,1599731                        0   \n",
       "1                     104,1599731                        0   \n",
       "2                     104,1599731                        0   \n",
       "3                     104,1599731                        0   \n",
       "4                     104,1599731                        0   \n",
       "...                           ...                      ...   \n",
       "52408                 29,76000061                        0   \n",
       "52409                 29,76000061                        0   \n",
       "52410                 29,76000061                        0   \n",
       "52411                 29,76000061                        0   \n",
       "52412                 29,76000061                        0   \n",
       "\n",
       "      14618_FERM0101.PUMP_2_TOTAL 14618_FERM0101.Single_Use_DO_PV  \\\n",
       "0                               0                     16,71352692   \n",
       "1                               0                      20,1470993   \n",
       "2                               0                     24,09905762   \n",
       "3                               0                     14,21841431   \n",
       "4                               0                     17,11572418   \n",
       "...                           ...                             ...   \n",
       "52408                           0                     735,8955078   \n",
       "52409                           0                     735,8955078   \n",
       "52410                           0                     735,8955078   \n",
       "52411                           0                     735,8955078   \n",
       "52412                           0                     735,8955078   \n",
       "\n",
       "      14618_FERM0101.Single_Use_pH_PV 14618_FERM0101.Temperatura_PV  \n",
       "0                         6,015999985                   29,45600586  \n",
       "1                         6,015999985                   29,32000471  \n",
       "2                         6,015999985                   29,72000219  \n",
       "3                         6,015978311                   29,27206209  \n",
       "4                         6,015999985                   29,47209185  \n",
       "...                               ...                           ...  \n",
       "52408                     800,0399902                   15,35300293  \n",
       "52409                     800,0399902                   15,25111686  \n",
       "52410                     800,0399902                   15,23938258  \n",
       "52411                     800,0399902                   15,22473803  \n",
       "52412                     800,0399902                   15,21361408  \n",
       "\n",
       "[52413 rows x 17 columns]"
      ]
     },
     "execution_count": 20,
     "metadata": {},
     "output_type": "execute_result"
    }
   ],
   "source": [
    "bio_13171\n",
    "bio_13172\n",
    "bio_14618"
   ]
  },
  {
   "cell_type": "code",
   "execution_count": 25,
   "metadata": {},
   "outputs": [
    {
     "name": "stdout",
     "output_type": "stream",
     "text": [
      "<class 'pandas.core.frame.DataFrame'>\n",
      "RangeIndex: 52413 entries, 0 to 52412\n",
      "Data columns (total 17 columns):\n",
      " #   Column                                   Non-Null Count  Dtype         \n",
      "---  ------                                   --------------  -----         \n",
      " 0   DateTime                                 52413 non-null  datetime64[ns]\n",
      " 1   14618_FERM0101.Agitation_PV              48094 non-null  float64       \n",
      " 2   14618_FERM0101.Air_Sparge_PV             48094 non-null  float64       \n",
      " 3   14618_FERM0101.Biocontainer_Pressure_PV  48096 non-null  float64       \n",
      " 4   14618_FERM0101.DO_1_PV                   48094 non-null  float64       \n",
      " 5   14618_FERM0101.DO_2_PV                   1251 non-null   float64       \n",
      " 6   14618_FERM0101.Gas_Overlay_PV            48095 non-null  float64       \n",
      " 7   14618_FERM0101.Load_Cell_Net_PV          48096 non-null  float64       \n",
      " 8   14618_FERM0101.pH_1_PV                   48096 non-null  float64       \n",
      " 9   14618_FERM0101.pH_2_PV                   48096 non-null  float64       \n",
      " 10  14618_FERM0101.PUMP_1_PV                 48094 non-null  float64       \n",
      " 11  14618_FERM0101.PUMP_1_TOTAL              48096 non-null  float64       \n",
      " 12  14618_FERM0101.PUMP_2_PV                 48094 non-null  float64       \n",
      " 13  14618_FERM0101.PUMP_2_TOTAL              48095 non-null  float64       \n",
      " 14  14618_FERM0101.Single_Use_DO_PV          48094 non-null  float64       \n",
      " 15  14618_FERM0101.Single_Use_pH_PV          48094 non-null  float64       \n",
      " 16  14618_FERM0101.Temperatura_PV            48095 non-null  float64       \n",
      "dtypes: datetime64[ns](1), float64(16)\n",
      "memory usage: 6.8 MB\n"
     ]
    }
   ],
   "source": [
    "bio_14618.info()"
   ]
  },
  {
   "cell_type": "code",
   "execution_count": 22,
   "metadata": {},
   "outputs": [],
   "source": [
    "bio_14618[\"DateTime\"] = pd.to_datetime(bio_14618[\"DateTime\"])"
   ]
  },
  {
   "cell_type": "code",
   "execution_count": 23,
   "metadata": {},
   "outputs": [
    {
     "name": "stderr",
     "output_type": "stream",
     "text": [
      "/var/folders/z3/hzk3_13n5c10wmqwhtszhh840000gn/T/ipykernel_9875/2803408881.py:1: FutureWarning: DataFrame.applymap has been deprecated. Use DataFrame.map instead.\n",
      "  bio_14618 = bio_14618.applymap(lambda x: x.replace(',', '.') if isinstance(x, str) else x)\n"
     ]
    }
   ],
   "source": [
    "bio_14618 = bio_14618.applymap(lambda x: x.replace(',', '.') if isinstance(x, str) else x)"
   ]
  },
  {
   "cell_type": "code",
   "execution_count": 24,
   "metadata": {},
   "outputs": [],
   "source": [
    "bio_14618[bio_14618.select_dtypes(include=['object']).columns] = bio_14618.select_dtypes(include=['object']).apply(lambda col: pd.to_numeric(col, errors='coerce'))"
   ]
  },
  {
   "cell_type": "code",
   "execution_count": null,
   "metadata": {},
   "outputs": [],
   "source": []
  },
  {
   "cell_type": "code",
   "execution_count": 28,
   "metadata": {},
   "outputs": [
    {
     "name": "stdout",
     "output_type": "stream",
     "text": [
      "<class 'pandas.core.frame.DataFrame'>\n",
      "RangeIndex: 52413 entries, 0 to 52412\n",
      "Data columns (total 17 columns):\n",
      " #   Column                                   Non-Null Count  Dtype         \n",
      "---  ------                                   --------------  -----         \n",
      " 0   DateTime                                 52413 non-null  datetime64[ns]\n",
      " 1   13172_FERM0101.Agitation_PV              48086 non-null  float64       \n",
      " 2   13172_FERM0101.Air_Sparge_PV             48086 non-null  float64       \n",
      " 3   13172_FERM0101.Biocontainer_Pressure_PV  48087 non-null  float64       \n",
      " 4   13172_FERM0101.DO_1_PV                   1178 non-null   float64       \n",
      " 5   13172_FERM0101.DO_2_PV                   48086 non-null  float64       \n",
      " 6   13172_FERM0101.Gas_Overlay_PV            48086 non-null  float64       \n",
      " 7   13172_FERM0101.Load_Cell_Net_PV          48087 non-null  float64       \n",
      " 8   13172_FERM0101.pH_1_PV                   48087 non-null  float64       \n",
      " 9   13172_FERM0101.pH_2_PV                   48087 non-null  float64       \n",
      " 10  13172_FERM0101.PUMP_1_PV                 48086 non-null  float64       \n",
      " 11  13172_FERM0101.PUMP_1_TOTAL              48087 non-null  float64       \n",
      " 12  13172_FERM0101.PUMP_2_PV                 48086 non-null  float64       \n",
      " 13  13172_FERM0101.PUMP_2_TOTAL              48087 non-null  float64       \n",
      " 14  13172_FERM0101.Single_Use_DO_PV          48086 non-null  float64       \n",
      " 15  13172_FERM0101.Single_Use_pH_PV          48086 non-null  float64       \n",
      " 16  13172_FERM0101.Temperatura_PV            48087 non-null  float64       \n",
      "dtypes: datetime64[ns](1), float64(16)\n",
      "memory usage: 6.8 MB\n"
     ]
    }
   ],
   "source": [
    "bio_13172.info()\n"
   ]
  },
  {
   "cell_type": "code",
   "execution_count": 27,
   "metadata": {},
   "outputs": [
    {
     "name": "stderr",
     "output_type": "stream",
     "text": [
      "/var/folders/z3/hzk3_13n5c10wmqwhtszhh840000gn/T/ipykernel_9875/1689036331.py:2: FutureWarning: DataFrame.applymap has been deprecated. Use DataFrame.map instead.\n",
      "  bio_13172 = bio_13172.applymap(lambda x: x.replace(',', '.') if isinstance(x, str) else x)\n"
     ]
    }
   ],
   "source": [
    "bio_13172[\"DateTime\"] = pd.to_datetime(bio_13172[\"DateTime\"])\n",
    "bio_13172 = bio_13172.applymap(lambda x: x.replace(',', '.') if isinstance(x, str) else x)\n",
    "bio_13172[bio_13172.select_dtypes(include=['object']).columns] = bio_13172.select_dtypes(include=['object']).apply(lambda col: pd.to_numeric(col, errors='coerce'))"
   ]
  },
  {
   "cell_type": "code",
   "execution_count": 31,
   "metadata": {},
   "outputs": [
    {
     "name": "stdout",
     "output_type": "stream",
     "text": [
      "<class 'pandas.core.frame.DataFrame'>\n",
      "RangeIndex: 52413 entries, 0 to 52412\n",
      "Data columns (total 17 columns):\n",
      " #   Column                                   Non-Null Count  Dtype         \n",
      "---  ------                                   --------------  -----         \n",
      " 0   DateTime                                 52413 non-null  datetime64[ns]\n",
      " 1   13171_FERM0101.Agitation_PV              47755 non-null  float64       \n",
      " 2   13171_FERM0101.Air_Sparge_PV             47755 non-null  float64       \n",
      " 3   13171_FERM0101.Biocontainer_Pressure_PV  47757 non-null  float64       \n",
      " 4   13171_FERM0101.DO_1_PV                   46785 non-null  float64       \n",
      " 5   13171_FERM0101.DO_2_PV                   47755 non-null  float64       \n",
      " 6   13171_FERM0101.Gas_Overlay_PV            47755 non-null  float64       \n",
      " 7   13171_FERM0101.Load_Cell_Net_PV          47757 non-null  float64       \n",
      " 8   13171_FERM0101.pH_1_PV                   43276 non-null  float64       \n",
      " 9   13171_FERM0101.pH_2_PV                   45594 non-null  float64       \n",
      " 10  13171_FERM0101.PUMP_1_PV                 47755 non-null  float64       \n",
      " 11  13171_FERM0101.PUMP_1_TOTAL              47756 non-null  float64       \n",
      " 12  13171_FERM0101.PUMP_2_PV                 47755 non-null  float64       \n",
      " 13  13171_FERM0101.PUMP_2_TOTAL              47756 non-null  float64       \n",
      " 14  13171_FERM0101.Single_Use_DO_PV          47755 non-null  float64       \n",
      " 15  13171_FERM0101.Single_Use_pH_PV          47755 non-null  float64       \n",
      " 16  13171_FERM0101.Temperatura_PV            47755 non-null  float64       \n",
      "dtypes: datetime64[ns](1), float64(16)\n",
      "memory usage: 6.8 MB\n"
     ]
    }
   ],
   "source": [
    "bio_13171.info()"
   ]
  },
  {
   "cell_type": "code",
   "execution_count": 30,
   "metadata": {},
   "outputs": [
    {
     "name": "stderr",
     "output_type": "stream",
     "text": [
      "/var/folders/z3/hzk3_13n5c10wmqwhtszhh840000gn/T/ipykernel_9875/113393512.py:2: FutureWarning: DataFrame.applymap has been deprecated. Use DataFrame.map instead.\n",
      "  bio_13171 = bio_13171.applymap(lambda x: x.replace(',', '.') if isinstance(x, str) else x)\n"
     ]
    }
   ],
   "source": [
    "bio_13171[\"DateTime\"] = pd.to_datetime(bio_13171[\"DateTime\"])\n",
    "bio_13171 = bio_13171.applymap(lambda x: x.replace(',', '.') if isinstance(x, str) else x)\n",
    "bio_13171[bio_13171.select_dtypes(include=['object']).columns] = bio_13171.select_dtypes(include=['object']).apply(lambda col: pd.to_numeric(col, errors='coerce'))"
   ]
  },
  {
   "cell_type": "code",
   "execution_count": 46,
   "metadata": {},
   "outputs": [],
   "source": [
    "bio_13172.columns = ['DateTime','FERM0101.Agitation_PV','FERM0101.Air_Sparge_PV','FERM0101.Biocontainer_Pressure_PV','FERM0101.DO_1_PV','FERM0101.DO_2_PV','FERM0101.Gas_Overlay_PV','FERM0101.Load_Cell_Net_PV','FERM0101.pH_1_PV','FERM0101.pH_2_PV','FERM0101.PUMP_1_PV','FERM0101.PUMP_1_TOTAL','FERM0101.PUMP_2_PV','FERM0101.PUMP_2_TOTAL','FERM0101.Single_Use_DO_PV','FERM0101.Single_Use_pH_PV','FERM0101.Temperatura_PV']"
   ]
  },
  {
   "cell_type": "code",
   "execution_count": 47,
   "metadata": {},
   "outputs": [
    {
     "data": {
      "text/plain": [
       "Index(['DateTime', 'FERM0101.Agitation_PV', 'FERM0101.Air_Sparge_PV',\n",
       "       'FERM0101.Biocontainer_Pressure_PV', 'FERM0101.DO_1_PV',\n",
       "       'FERM0101.DO_2_PV', 'FERM0101.Gas_Overlay_PV',\n",
       "       'FERM0101.Load_Cell_Net_PV', 'FERM0101.pH_1_PV', 'FERM0101.pH_2_PV',\n",
       "       'FERM0101.PUMP_1_PV', 'FERM0101.PUMP_1_TOTAL', 'FERM0101.PUMP_2_PV',\n",
       "       'FERM0101.PUMP_2_TOTAL', 'FERM0101.Single_Use_DO_PV',\n",
       "       'FERM0101.Single_Use_pH_PV', 'FERM0101.Temperatura_PV'],\n",
       "      dtype='object')"
      ]
     },
     "execution_count": 47,
     "metadata": {},
     "output_type": "execute_result"
    }
   ],
   "source": [
    "bio_13172.columns"
   ]
  },
  {
   "cell_type": "code",
   "execution_count": 58,
   "metadata": {},
   "outputs": [],
   "source": [
    "bio_13172.insert(0, \"Biorreactor\", 13172, True)"
   ]
  },
  {
   "cell_type": "code",
   "execution_count": 49,
   "metadata": {},
   "outputs": [
    {
     "name": "stdout",
     "output_type": "stream",
     "text": [
      "<class 'pandas.core.frame.DataFrame'>\n",
      "RangeIndex: 52413 entries, 0 to 52412\n",
      "Data columns (total 18 columns):\n",
      " #   Column                             Non-Null Count  Dtype         \n",
      "---  ------                             --------------  -----         \n",
      " 0   Biorreactor                        52413 non-null  int64         \n",
      " 1   DateTime                           52413 non-null  datetime64[ns]\n",
      " 2   FERM0101.Agitation_PV              48086 non-null  float64       \n",
      " 3   FERM0101.Air_Sparge_PV             48086 non-null  float64       \n",
      " 4   FERM0101.Biocontainer_Pressure_PV  48087 non-null  float64       \n",
      " 5   FERM0101.DO_1_PV                   1178 non-null   float64       \n",
      " 6   FERM0101.DO_2_PV                   48086 non-null  float64       \n",
      " 7   FERM0101.Gas_Overlay_PV            48086 non-null  float64       \n",
      " 8   FERM0101.Load_Cell_Net_PV          48087 non-null  float64       \n",
      " 9   FERM0101.pH_1_PV                   48087 non-null  float64       \n",
      " 10  FERM0101.pH_2_PV                   48087 non-null  float64       \n",
      " 11  FERM0101.PUMP_1_PV                 48086 non-null  float64       \n",
      " 12  FERM0101.PUMP_1_TOTAL              48087 non-null  float64       \n",
      " 13  FERM0101.PUMP_2_PV                 48086 non-null  float64       \n",
      " 14  FERM0101.PUMP_2_TOTAL              48087 non-null  float64       \n",
      " 15  FERM0101.Single_Use_DO_PV          48086 non-null  float64       \n",
      " 16  FERM0101.Single_Use_pH_PV          48086 non-null  float64       \n",
      " 17  FERM0101.Temperatura_PV            48087 non-null  float64       \n",
      "dtypes: datetime64[ns](1), float64(16), int64(1)\n",
      "memory usage: 7.2 MB\n"
     ]
    }
   ],
   "source": [
    "bio_13172.info()"
   ]
  },
  {
   "cell_type": "code",
   "execution_count": 57,
   "metadata": {},
   "outputs": [],
   "source": [
    "bio_13172 = bio_13172.drop('Biorreactor', axis=1)"
   ]
  },
  {
   "cell_type": "code",
   "execution_count": 63,
   "metadata": {},
   "outputs": [
    {
     "name": "stdout",
     "output_type": "stream",
     "text": [
      "<class 'pandas.core.frame.DataFrame'>\n",
      "RangeIndex: 52413 entries, 0 to 52412\n",
      "Data columns (total 18 columns):\n",
      " #   Column                             Non-Null Count  Dtype         \n",
      "---  ------                             --------------  -----         \n",
      " 0   Biorreactor                        52413 non-null  int64         \n",
      " 1   DateTime                           52413 non-null  datetime64[ns]\n",
      " 2   FERM0101.Agitation_PV              48086 non-null  float64       \n",
      " 3   FERM0101.Air_Sparge_PV             48086 non-null  float64       \n",
      " 4   FERM0101.Biocontainer_Pressure_PV  48087 non-null  float64       \n",
      " 5   FERM0101.DO_1_PV                   1178 non-null   float64       \n",
      " 6   FERM0101.DO_2_PV                   48086 non-null  float64       \n",
      " 7   FERM0101.Gas_Overlay_PV            48086 non-null  float64       \n",
      " 8   FERM0101.Load_Cell_Net_PV          48087 non-null  float64       \n",
      " 9   FERM0101.pH_1_PV                   48087 non-null  float64       \n",
      " 10  FERM0101.pH_2_PV                   48087 non-null  float64       \n",
      " 11  FERM0101.PUMP_1_PV                 48086 non-null  float64       \n",
      " 12  FERM0101.PUMP_1_TOTAL              48087 non-null  float64       \n",
      " 13  FERM0101.PUMP_2_PV                 48086 non-null  float64       \n",
      " 14  FERM0101.PUMP_2_TOTAL              48087 non-null  float64       \n",
      " 15  FERM0101.Single_Use_DO_PV          48086 non-null  float64       \n",
      " 16  FERM0101.Single_Use_pH_PV          48086 non-null  float64       \n",
      " 17  FERM0101.Temperatura_PV            48087 non-null  float64       \n",
      "dtypes: datetime64[ns](1), float64(16), int64(1)\n",
      "memory usage: 7.2 MB\n"
     ]
    }
   ],
   "source": [
    "bio_13172.info()"
   ]
  },
  {
   "cell_type": "code",
   "execution_count": 65,
   "metadata": {},
   "outputs": [],
   "source": [
    "bio_13172.to_csv('bio_13172.csv', index=False)\n",
    "bio_13171.to_csv('bio_13171.csv', index=False)\n",
    "bio_14618.to_csv('bio_14618.csv', index=False)"
   ]
  },
  {
   "cell_type": "code",
   "execution_count": 66,
   "metadata": {},
   "outputs": [],
   "source": [
    "little_biorre = pd.concat([bio_13172, bio_13171, bio_14618], axis=0)"
   ]
  },
  {
   "cell_type": "code",
   "execution_count": 69,
   "metadata": {},
   "outputs": [],
   "source": [
    "little_biorre.to_csv('little_biorre.csv', index=False)"
   ]
  },
  {
   "cell_type": "code",
   "execution_count": 70,
   "metadata": {},
   "outputs": [
    {
     "name": "stdout",
     "output_type": "stream",
     "text": [
      "<class 'pandas.core.frame.DataFrame'>\n",
      "Index: 157239 entries, 0 to 52412\n",
      "Data columns (total 18 columns):\n",
      " #   Column                             Non-Null Count   Dtype         \n",
      "---  ------                             --------------   -----         \n",
      " 0   Biorreactor                        157239 non-null  int64         \n",
      " 1   DateTime                           157239 non-null  datetime64[ns]\n",
      " 2   FERM0101.Agitation_PV              143935 non-null  float64       \n",
      " 3   FERM0101.Air_Sparge_PV             143935 non-null  float64       \n",
      " 4   FERM0101.Biocontainer_Pressure_PV  143940 non-null  float64       \n",
      " 5   FERM0101.DO_1_PV                   96057 non-null   float64       \n",
      " 6   FERM0101.DO_2_PV                   97092 non-null   float64       \n",
      " 7   FERM0101.Gas_Overlay_PV            143936 non-null  float64       \n",
      " 8   FERM0101.Load_Cell_Net_PV          143940 non-null  float64       \n",
      " 9   FERM0101.pH_1_PV                   139459 non-null  float64       \n",
      " 10  FERM0101.pH_2_PV                   141777 non-null  float64       \n",
      " 11  FERM0101.PUMP_1_PV                 143935 non-null  float64       \n",
      " 12  FERM0101.PUMP_1_TOTAL              143939 non-null  float64       \n",
      " 13  FERM0101.PUMP_2_PV                 143935 non-null  float64       \n",
      " 14  FERM0101.PUMP_2_TOTAL              143938 non-null  float64       \n",
      " 15  FERM0101.Single_Use_DO_PV          143935 non-null  float64       \n",
      " 16  FERM0101.Single_Use_pH_PV          143935 non-null  float64       \n",
      " 17  FERM0101.Temperatura_PV            143937 non-null  float64       \n",
      "dtypes: datetime64[ns](1), float64(16), int64(1)\n",
      "memory usage: 22.8 MB\n"
     ]
    }
   ],
   "source": [
    "little_biorre.info()"
   ]
  }
 ],
 "metadata": {
  "kernelspec": {
   "display_name": "EDA_ENV",
   "language": "python",
   "name": "python3"
  },
  "language_info": {
   "codemirror_mode": {
    "name": "ipython",
    "version": 3
   },
   "file_extension": ".py",
   "mimetype": "text/x-python",
   "name": "python",
   "nbconvert_exporter": "python",
   "pygments_lexer": "ipython3",
   "version": "3.10.14"
  }
 },
 "nbformat": 4,
 "nbformat_minor": 2
}
